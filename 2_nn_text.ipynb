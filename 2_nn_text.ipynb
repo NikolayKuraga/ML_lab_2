{
 "cells": [
  {
   "cell_type": "code",
   "execution_count": 1,
   "id": "ee1b0f88-b8c8-4b31-aec2-575ffe7b387b",
   "metadata": {},
   "outputs": [
    {
     "name": "stdout",
     "output_type": "stream",
     "text": [
      "WOW! I can execute shell commands from Jupyter Notebook!\n",
      "Interesting, what shell is used under Windows...\n",
      "Current shell is: \"/bin/bash\".\n"
     ]
    },
    {
     "name": "stderr",
     "output_type": "stream",
     "text": [
      "/usr/local/venv/2024-11/lib/python3.11/site-packages/tqdm/auto.py:21: TqdmWarning: IProgress not found. Please update jupyter and ipywidgets. See https://ipywidgets.readthedocs.io/en/stable/user_install.html\n",
      "  from .autonotebook import tqdm as notebook_tqdm\n"
     ]
    },
    {
     "name": "stdout",
     "output_type": "stream",
     "text": [
      "Done\n"
     ]
    },
    {
     "name": "stderr",
     "output_type": "stream",
     "text": [
      "[nltk_data] Downloading package stopwords to\n",
      "[nltk_data]     /home/nikolay/nltk_data...\n",
      "[nltk_data]   Package stopwords is already up-to-date!\n"
     ]
    }
   ],
   "source": [
    "!echo 'WOW! I can execute shell commands from Jupyter Notebook!'\n",
    "!echo 'Interesting, what shell is used under Windows...'\n",
    "!echo \"Current shell is: \\\"${SHELL}\\\".\"\n",
    "!pip install fast_langdetect iso-639 nltk pandas >/dev/null\n",
    "\n",
    "\n",
    "import fast_langdetect\n",
    "import iso639\n",
    "import nltk.corpus\n",
    "import pandas as pd\n",
    "\n",
    "\n",
    "nltk.download('stopwords')\n",
    "print('Done')"
   ]
  },
  {
   "cell_type": "code",
   "execution_count": 2,
   "id": "e3519c42-4cca-439e-a268-f5ba24cbd1c0",
   "metadata": {},
   "outputs": [
    {
     "name": "stdout",
     "output_type": "stream",
     "text": [
      "Head of train dataset:\n",
      "   Class Index                                              Title  \\\n",
      "0            3  Wall St. Bears Claw Back Into the Black (Reuters)   \n",
      "1            3  Carlyle Looks Toward Commercial Aerospace (Reu...   \n",
      "2            3    Oil and Economy Cloud Stocks' Outlook (Reuters)   \n",
      "3            3  Iraq Halts Oil Exports from Main Southern Pipe...   \n",
      "4            3  Oil prices soar to all-time record, posing new...   \n",
      "\n",
      "                                         Description  \n",
      "0  Reuters - Short-sellers, Wall Street's dwindli...  \n",
      "1  Reuters - Private investment firm Carlyle Grou...  \n",
      "2  Reuters - Soaring crude prices plus worries\\ab...  \n",
      "3  Reuters - Authorities have halted oil export\\f...  \n",
      "4  AFP - Tearaway world oil prices, toppling reco...  \n",
      "\n",
      "Info of train dataset\n",
      "<class 'pandas.core.frame.DataFrame'>\n",
      "RangeIndex: 120000 entries, 0 to 119999\n",
      "Data columns (total 3 columns):\n",
      " #   Column       Non-Null Count   Dtype \n",
      "---  ------       --------------   ----- \n",
      " 0   Class Index  120000 non-null  int64 \n",
      " 1   Title        120000 non-null  object\n",
      " 2   Description  120000 non-null  object\n",
      "dtypes: int64(1), object(2)\n",
      "memory usage: 2.7+ MB\n",
      "None\n"
     ]
    }
   ],
   "source": [
    "df_trn = pd.read_csv('./train.csv')\n",
    "df_tst = pd.read_csv('./test.csv')\n",
    "\n",
    "print('Head of train dataset:')\n",
    "print(df_trn.head())\n",
    "print()\n",
    "print('Info of train dataset')\n",
    "print(df_trn.info())"
   ]
  },
  {
   "cell_type": "code",
   "execution_count": 3,
   "id": "4dd55ef6-32a6-4b52-a725-43c656d74377",
   "metadata": {},
   "outputs": [
    {
     "name": "stdout",
     "output_type": "stream",
     "text": [
      "Train dataset\n",
      "Lang\n",
      "english           119944\n",
      "french                21\n",
      "spanish               10\n",
      "polish                 9\n",
      "german                 7\n",
      "italian                5\n",
      "westernfrisian         3\n",
      "ukrainian              1\n",
      "Name: count, dtype: int64\n",
      "\n",
      "Test dataset\n",
      "Lang\n",
      "english    7596\n",
      "polish        3\n",
      "french        1\n",
      "Name: count, dtype: int64\n"
     ]
    }
   ],
   "source": [
    "# 1. Try some text cleaning techniques from the list below (at least 2). Does any of it\n",
    "# improved your model quality? Try to assume why.\n",
    "#     a. stop words removing\n",
    "#     b. punctuation removing\n",
    "#     c. Trash (Extra spaces / special symbols (like @#~<> etc)) removing\n",
    "#     d. digits removing\n",
    "\n",
    "\n",
    "# First of all tried to detect what languages are used.\n",
    "# Found two ways:\n",
    "#     1) langdetect -- \"traditional\" module, really slow (several seconds for 1000 entities).\n",
    "#     2) fast_langdetect -- fast \"zoomer\" language-machine-learning based module.\n",
    "# I will use fast_langdetect model 'cause I'm zoomer.\n",
    "\n",
    "def detectLanguage(text: str) -> str:\n",
    "    code = fast_langdetect.detect_language(text).lower()\n",
    "    name = iso639.languages.get(alpha2=code).name\n",
    "    name = ''.join(name.split()).lower()\n",
    "    return name\n",
    "\n",
    "\n",
    "df_trn['Lang'] = (df_trn['Title'] + ' ' + df_trn['Description']).apply(detectLanguage)\n",
    "df_tst['Lang'] = (df_tst['Title'] + ' ' + df_tst['Description']).apply(detectLanguage)\n",
    "\n",
    "print('Train dataset')\n",
    "print(df_trn['Lang'].value_counts())\n",
    "print()\n",
    "print('Test dataset')\n",
    "print(df_tst['Lang'].value_counts())"
   ]
  },
  {
   "cell_type": "code",
   "execution_count": 4,
   "id": "4306691c-7a1a-4a0f-859c-3d9d47da3e39",
   "metadata": {},
   "outputs": [],
   "source": [
    "# What to do next?\n",
    "# *) Delete all rows with not english text?\n",
    "# *) Perform stop-words"
   ]
  }
 ],
 "metadata": {
  "kernelspec": {
   "display_name": "Python 3 (ipykernel)",
   "language": "python",
   "name": "python3"
  },
  "language_info": {
   "codemirror_mode": {
    "name": "ipython",
    "version": 3
   },
   "file_extension": ".py",
   "mimetype": "text/x-python",
   "name": "python",
   "nbconvert_exporter": "python",
   "pygments_lexer": "ipython3",
   "version": "3.11.2"
  }
 },
 "nbformat": 4,
 "nbformat_minor": 5
}
